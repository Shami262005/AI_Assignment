{
 "cells": [
  {
   "cell_type": "code",
   "execution_count": 1,
   "id": "b5c344c6-6784-407a-a3f4-1d07f4dd4d6c",
   "metadata": {},
   "outputs": [
    {
     "name": "stdout",
     "output_type": "stream",
     "text": [
      "Requirement already satisfied: pygame in c:\\users\\nyasha\\onedrive - nust\\desktop\\sheldon\\new folder\\new folder\\new folder\\lib\\site-packages (2.6.1)\n",
      "Note: you may need to restart the kernel to use updated packages.\n"
     ]
    }
   ],
   "source": [
    "pip install pygame"
   ]
  },
  {
   "cell_type": "code",
   "execution_count": 2,
   "id": "10babcd4",
   "metadata": {},
   "outputs": [
    {
     "name": "stdout",
     "output_type": "stream",
     "text": [
      "pygame 2.6.1 (SDL 2.28.4, Python 3.12.4)\n",
      "Hello from the pygame community. https://www.pygame.org/contribute.html\n"
     ]
    }
   ],
   "source": [
    "import pygame\n",
    "import sys\n",
    "import time\n",
    "sys.path.append(r\"C:\\Users\\Nyasha\\OneDrive - NUST\\Desktop\\Golden\\Fifth Semester\\Artificial Intell\\Question 3. Adversal Search\")\n",
    "import tictactoe as ttt"
   ]
  },
  {
   "cell_type": "code",
   "execution_count": 3,
   "id": "de1fbb3f",
   "metadata": {},
   "outputs": [],
   "source": [
    "pygame.init()\n",
    "size = width, height = 600, 400"
   ]
  },
  {
   "cell_type": "code",
   "execution_count": 4,
   "id": "3d47e69e",
   "metadata": {},
   "outputs": [],
   "source": [
    "# Colors\n",
    "black = (0, 0, 0)\n",
    "white = (255, 255, 255)"
   ]
  },
  {
   "cell_type": "code",
   "execution_count": 5,
   "id": "7321f95a",
   "metadata": {},
   "outputs": [],
   "source": [
    "screen = pygame.display.set_mode(size)"
   ]
  },
  {
   "cell_type": "code",
   "execution_count": 6,
   "id": "b1ff2691",
   "metadata": {},
   "outputs": [],
   "source": [
    "mediumFont = pygame.font.Font(r\"C:\\Users\\Nyasha\\OneDrive - NUST\\Desktop\\Golden\\Fifth Semester\\Artificial Intell\\Question 3. Adversal Search\\OpenSans-Regular.ttf\", 28)\n",
    "largeFont = pygame.font.Font(r\"C:\\Users\\Nyasha\\OneDrive - NUST\\Desktop\\Golden\\Fifth Semester\\Artificial Intell\\Question 3. Adversal Search\\OpenSans-Regular.ttf\", 40)\n",
    "moveFont = pygame.font.Font(r\"C:\\Users\\Nyasha\\OneDrive - NUST\\Desktop\\Golden\\Fifth Semester\\Artificial Intell\\Question 3. Adversal Search\\OpenSans-Regular.ttf\", 60)"
   ]
  },
  {
   "cell_type": "code",
   "execution_count": null,
   "id": "ebfd9e02",
   "metadata": {},
   "outputs": [],
   "source": [
    "user = None\n",
    "board = ttt.initial_state()\n",
    "ai_turn = False\n",
    "while True:\n",
    "\n",
    "    for event in pygame.event.get():\n",
    "        if event.type == pygame.QUIT:\n",
    "            sys.exit()\n",
    "\n",
    "    screen.fill(black)\n",
    "\n",
    "    # Let user choose a player.\n",
    "    if user is None:\n",
    "\n",
    "        # Draw title\n",
    "        title = largeFont.render(\"Play Tic-Tac-Toe\", True, white)\n",
    "        titleRect = title.get_rect()\n",
    "        titleRect.center = ((width / 2), 50)\n",
    "        screen.blit(title, titleRect)\n",
    "\n",
    "        # Draw buttons\n",
    "        playXButton = pygame.Rect((width / 8), (height / 2), width / 4, 50)\n",
    "        playX = mediumFont.render(\"Play as X\", True, black)\n",
    "        playXRect = playX.get_rect()\n",
    "        playXRect.center = playXButton.center\n",
    "        pygame.draw.rect(screen, white, playXButton)\n",
    "        screen.blit(playX, playXRect)\n",
    "\n",
    "        playOButton = pygame.Rect(5 * (width / 8), (height / 2), width / 4, 50)\n",
    "        playO = mediumFont.render(\"Play as O\", True, black)\n",
    "        playORect = playO.get_rect()\n",
    "        playORect.center = playOButton.center\n",
    "        pygame.draw.rect(screen, white, playOButton)\n",
    "        screen.blit(playO, playORect)\n",
    "\n",
    "        # Check if button is clicked\n",
    "        click, _, _ = pygame.mouse.get_pressed()\n",
    "        if click == 1:\n",
    "            mouse = pygame.mouse.get_pos()\n",
    "            if playXButton.collidepoint(mouse):\n",
    "                time.sleep(0.2)\n",
    "                user = ttt.X\n",
    "            elif playOButton.collidepoint(mouse):\n",
    "                time.sleep(0.2)\n",
    "                user = ttt.O\n",
    "\n",
    "    else:\n",
    "\n",
    "        # Draw game board\n",
    "        tile_size = 80\n",
    "        tile_origin = (width / 2 - (1.5 * tile_size),\n",
    "                       height / 2 - (1.5 * tile_size))\n",
    "        tiles = []\n",
    "        for i in range(3):\n",
    "            row = []\n",
    "            for j in range(3):\n",
    "                rect = pygame.Rect(\n",
    "                    tile_origin[0] + j * tile_size,\n",
    "                    tile_origin[1] + i * tile_size,\n",
    "                    tile_size, tile_size\n",
    "                )\n",
    "                pygame.draw.rect(screen, white, rect, 3)\n",
    "\n",
    "                if board[i][j] != ttt.EMPTY:\n",
    "                    move = moveFont.render(board[i][j], True, white)\n",
    "                    moveRect = move.get_rect()\n",
    "                    moveRect.center = rect.center\n",
    "                    screen.blit(move, moveRect)\n",
    "                row.append(rect)\n",
    "            tiles.append(row)\n",
    "\n",
    "        game_over = ttt.terminal(board)\n",
    "        player = ttt.player(board)\n",
    "\n",
    "        # Show title\n",
    "        if game_over:\n",
    "            winner = ttt.winner(board)\n",
    "            if winner is None:\n",
    "                title = f\"Game Over: Tie.\"\n",
    "            else:\n",
    "                title = f\"Game Over: {winner} wins.\"\n",
    "        elif user == player:\n",
    "            title = f\"Play as {user}\"\n",
    "        else:\n",
    "            title = f\"Computer thinking...\"\n",
    "        title = largeFont.render(title, True, white)\n",
    "        titleRect = title.get_rect()\n",
    "        titleRect.center = ((width / 2), 30)\n",
    "        screen.blit(title, titleRect)\n",
    "\n",
    "        # Check for AI move\n",
    "        if user != player and not game_over:\n",
    "            if ai_turn:\n",
    "                time.sleep(0.5)\n",
    "                move = ttt.minimax(board)\n",
    "                board = ttt.result(board, move)\n",
    "                ai_turn = False\n",
    "            else:\n",
    "                ai_turn = True\n",
    "\n",
    "        # Check for a user move\n",
    "        click, _, _ = pygame.mouse.get_pressed()\n",
    "        if click == 1 and user == player and not game_over:\n",
    "            mouse = pygame.mouse.get_pos()\n",
    "            for i in range(3):\n",
    "                for j in range(3):\n",
    "                    if (board[i][j] == ttt.EMPTY and tiles[i][j].collidepoint(mouse)):\n",
    "                        board = ttt.result(board, (i, j))\n",
    "\n",
    "        if game_over:\n",
    "            againButton = pygame.Rect(width / 3, height - 65, width / 3, 50)\n",
    "            again = mediumFont.render(\"Play Again\", True, black)\n",
    "            againRect = again.get_rect()\n",
    "            againRect.center = againButton.center\n",
    "            pygame.draw.rect(screen, white, againButton)\n",
    "            screen.blit(again, againRect)\n",
    "            click, _, _ = pygame.mouse.get_pressed()\n",
    "            if click == 1:\n",
    "                mouse = pygame.mouse.get_pos()\n",
    "                if againButton.collidepoint(mouse):\n",
    "                    time.sleep(0.2)\n",
    "                    user = None\n",
    "                    board = ttt.initial_state()\n",
    "                    ai_turn = False\n",
    "\n",
    "    pygame.display.flip()"
   ]
  },
  {
   "cell_type": "code",
   "execution_count": null,
   "id": "d40e448a-fc75-41a7-8816-ef04f6783c60",
   "metadata": {},
   "outputs": [],
   "source": []
  }
 ],
 "metadata": {
  "jupytext": {
   "cell_metadata_filter": "-all",
   "main_language": "python",
   "notebook_metadata_filter": "-all"
  },
  "kernelspec": {
   "display_name": "Python 3 (ipykernel)",
   "language": "python",
   "name": "python3"
  },
  "language_info": {
   "codemirror_mode": {
    "name": "ipython",
    "version": 3
   },
   "file_extension": ".py",
   "mimetype": "text/x-python",
   "name": "python",
   "nbconvert_exporter": "python",
   "pygments_lexer": "ipython3",
   "version": "3.12.4"
  }
 },
 "nbformat": 4,
 "nbformat_minor": 5
}
