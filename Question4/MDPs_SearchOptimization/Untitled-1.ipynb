{
 "cells": [
  {
   "cell_type": "code",
   "execution_count": 1,
   "id": "b417323d",
   "metadata": {},
   "outputs": [],
   "source": [
    "import numpy as np\n",
    "import operator\n",
    "import matplotlib.pyplot as plt\n",
    "%matplotlib inline"
   ]
  },
  {
   "cell_type": "code",
   "execution_count": null,
   "id": "828c5eaa",
   "metadata": {},
   "outputs": [],
   "source": [
    "import numpy as np\n",
    "import random\n",
    "\n",
    "class GridWorld:\n",
    "    def __init__(self):\n",
    "        self.height = 5\n",
    "        self.width = 5\n",
    "        self.actions = ['north', 'south', 'east', 'west']\n",
    "        \n",
    "        self.special_states = {\n",
    "            (0, 1): {'next_state': (4, 1), 'reward': 10},  # A to A′\n",
    "            (0, 3): {'next_state': (2, 3), 'reward': 5}    # B to B′\n",
    "        }\n",
    "\n",
    "        self.reset()\n",
    "\n",
    "    def reset(self):\n",
    "        self.current_state = (random.randint(0, 4), random.randint(0, 4))\n",
    "        return self.current_state\n",
    "\n",
    "    def get_available_actions(self):\n",
    "        return self.actions\n",
    "\n",
    "    def step(self, action):\n",
    "        state = self.current_state\n",
    "\n",
    "        # Check if current state is special (A or B)\n",
    "        if state in self.special_states:\n",
    "            special = self.special_states[state]\n",
    "            self.current_state = special['next_state']\n",
    "            return self.current_state, special['reward']\n",
    "        \n",
    "        # Default reward for valid move\n",
    "        reward = 0\n",
    "        x, y = state\n",
    "\n",
    "        if action == 'north':\n",
    "            new_state = (x - 1, y) if x > 0 else state\n",
    "        elif action == 'south':\n",
    "            new_state = (x + 1, y) if x < self.height - 1 else state\n",
    "        elif action == 'east':\n",
    "            new_state = (x, y + 1) if y < self.width - 1 else state\n",
    "        elif action == 'west':\n",
    "            new_state = (x, y - 1) if y > 0 else state\n",
    "        else:\n",
    "            raise ValueError(\"Invalid action\")\n",
    "\n",
    "        # If the agent hits the wall (no movement), give -1\n",
    "        if new_state == state:\n",
    "            reward = -1\n",
    "\n",
    "        self.current_state = new_state\n",
    "        return new_state, reward\n",
    "\n",
    "    def render(self):\n",
    "        grid = np.full((self.height, self.width), '.')\n",
    "        grid[self.current_state] = 'A'\n",
    "        print(grid)\n"
   ]
  }
 ],
 "metadata": {
  "kernelspec": {
   "display_name": "Python 3",
   "language": "python",
   "name": "python3"
  },
  "language_info": {
   "codemirror_mode": {
    "name": "ipython",
    "version": 3
   },
   "file_extension": ".py",
   "mimetype": "text/x-python",
   "name": "python",
   "nbconvert_exporter": "python",
   "pygments_lexer": "ipython3",
   "version": "3.13.3"
  }
 },
 "nbformat": 4,
 "nbformat_minor": 5
}
