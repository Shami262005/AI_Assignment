{
 "cells": [
  {
   "cell_type": "code",
   "execution_count": 9,
   "id": "b28dca39",
   "metadata": {
    "lines_to_next_cell": 1
   },
   "outputs": [],
   "source": [
    "import heapq\n",
    "import matplotlib.pyplot as plt\n",
    "import numpy as np"
   ]
  },
  {
   "cell_type": "code",
   "execution_count": 10,
   "id": "e9acd87e",
   "metadata": {
    "lines_to_next_cell": 1
   },
   "outputs": [],
   "source": [
    "# Node class to store state, parent, action, and cost\n",
    "class Node:\n",
    "    def __init__(self, state, parent=None, action=None, cost=0):\n",
    "        self.state = state        # Position in the grid (row, col)\n",
    "        self.parent = parent      # Parent node\n",
    "        self.action = action      # Action taken to get here\n",
    "        self.cost = cost          # Cost (g(n) for A*)\n",
    "        self.priority = 0         # For priority queue (Greedy or A*)\n",
    "    \n",
    "    def __lt__(self, other):\n",
    "        return self.priority < other.priority"
   ]
  },
  {
   "cell_type": "code",
   "execution_count": 11,
   "id": "3226d447",
   "metadata": {
    "lines_to_next_cell": 1
   },
   "outputs": [],
   "source": [
    "# Maze class to manage the maze and search algorithms\n",
    "class Maze:\n",
    "    def __init__(self, maze_file):\n",
    "        self.maze = self.read_maze(maze_file)\n",
    "        self.start = None\n",
    "        self.goal = None\n",
    "        self.walls = set()\n",
    "        self.rows = len(self.maze)\n",
    "        self.cols = len(self.maze[0])\n",
    "        \n",
    "        # Locate start and goal positions\n",
    "        self.locate_start_goal()\n",
    "\n",
    "    def read_maze(self, maze_file):\n",
    "        # Read the maze from the file and create a grid representation\n",
    "        with open(maze_file, 'r') as file:\n",
    "            return [list(line.strip()) for line in file]\n",
    "\n",
    "    def locate_start_goal(self):\n",
    "        # Find positions of A (start) and B (goal)\n",
    "        for r in range(self.rows):\n",
    "            for c in range(self.cols):\n",
    "                if self.maze[r][c] == 'A':\n",
    "                    self.start = (r, c)\n",
    "                elif self.maze[r][c] == 'B':\n",
    "                    self.goal = (r, c)\n",
    "                elif self.maze[r][c] == '#':\n",
    "                    self.walls.add((r, c))\n",
    "\n",
    "    def get_neighbors(self, node):\n",
    "        # Return valid neighbors (up, down, left, right)\n",
    "        directions = [(-1, 0), (1, 0), (0, -1), (0, 1)]\n",
    "        neighbors = []\n",
    "        for dr, dc in directions:\n",
    "            nr, nc = node.state[0] + dr, node.state[1] + dc\n",
    "            if 0 <= nr < self.rows and 0 <= nc < self.cols and self.maze[nr][nc] != '#':\n",
    "                neighbors.append((nr, nc))\n",
    "        return neighbors\n",
    "\n",
    "    def heuristic(self, state):\n",
    "        # Manhattan distance heuristic\n",
    "        return abs(state[0] - self.goal[0]) + abs(state[1] - self.goal[1])\n",
    "\n",
    "    def solve(self, algorithm=\"greedy\"):\n",
    "        # Search algorithm\n",
    "        frontier = []\n",
    "        explored = set()\n",
    "\n",
    "        start_node = Node(self.start, cost=0)\n",
    "        if algorithm == \"greedy\":\n",
    "            start_node.priority = self.heuristic(self.start)  # Greedy: h(n)\n",
    "        heapq.heappush(frontier, start_node)\n",
    "        explored.add(self.start)\n",
    "\n",
    "        while frontier:\n",
    "            current_node = heapq.heappop(frontier)\n",
    "\n",
    "            # Check if we reached the goal\n",
    "            if current_node.state == self.goal:\n",
    "                return self.reconstruct_path(current_node)\n",
    "\n",
    "            # Explore neighbors\n",
    "            for neighbor in self.get_neighbors(current_node):\n",
    "                if neighbor not in explored:\n",
    "                    new_cost = current_node.cost + 1\n",
    "                    new_node = Node(neighbor, parent=current_node, cost=new_cost)\n",
    "                    if algorithm == \"greedy\":\n",
    "                        new_node.priority = self.heuristic(neighbor)  # Greedy: h(n)\n",
    "                    elif algorithm == \"astar\":\n",
    "                        new_node.priority = new_node.cost + self.heuristic(neighbor)  # A*: g(n) + h(n)\n",
    "\n",
    "                    heapq.heappush(frontier, new_node)\n",
    "                    explored.add(neighbor)\n",
    "\n",
    "        raise ValueError(\"No path found\")\n",
    "\n",
    "    def reconstruct_path(self, node):\n",
    "        path = []\n",
    "        while node:\n",
    "            path.append(node.state)\n",
    "            node = node.parent\n",
    "        return path[::-1]\n",
    "\n",
    "    def display(self, path=None):\n",
    "        # Visualize the maze with matplotlib\n",
    "        maze_copy = np.array(self.maze)\n",
    "        for (r, c) in self.walls:\n",
    "            maze_copy[r, c] = '#'\n",
    "        if path:\n",
    "            for (r, c) in path:\n",
    "                maze_copy[r, c] = '.'\n",
    "\n",
    "        plt.imshow(maze_copy == '#', cmap='gray')\n",
    "        plt.show()"
   ]
  },
  {
   "cell_type": "code",
   "execution_count": 12,
   "id": "2e6da50e",
   "metadata": {},
   "outputs": [
    {
     "name": "stdout",
     "output_type": "stream",
     "text": [
      "Greedy Path: [(1, 1), (1, 2), (1, 3), (1, 4), (1, 5), (1, 6), (1, 7)]\n"
     ]
    },
    {
     "data": {
      "image/png": "[encoded data removed]",
      "text/plain": [
       "<Figure size 640x480 with 1 Axes>"
      ]
     },
     "metadata": {},
     "output_type": "display_data"
    },
    {
     "name": "stdout",
     "output_type": "stream",
     "text": [
      "A* Path: [(1, 1), (1, 2), (1, 3), (1, 4), (1, 5), (1, 6), (1, 7)]\n"
     ]
    },
    {
     "data": {
      "image/png": "[encoded data removed]",
      "text/plain": [
       "<Figure size 640x480 with 1 Axes>"
      ]
     },
     "metadata": {},
     "output_type": "display_data"
    }
   ],
   "source": [
    "# Usage example\n",
    "if __name__ == \"__main__\":\n",
    "    maze_file = r\"C:\\Users\\Nyasha\\OneDrive - NUST\\Desktop\\Golden\\Fifth Semester\\Artificial Intell\\Question 1. Informed Search\\maze.txt\"  # Example maze file path\n",
    "    maze = Maze(maze_file)\n",
    "    \n",
    "    # Solve using Greedy Search\n",
    "    path_greedy = maze.solve(algorithm=\"greedy\")\n",
    "    print(\"Greedy Path:\", path_greedy)\n",
    "    maze.display(path_greedy)\n",
    "\n",
    "    # Solve using A* Search\n",
    "    path_astar = maze.solve(algorithm=\"astar\")\n",
    "    print(\"A* Path:\", path_astar)\n",
    "    maze.display(path_astar)"
   ]
  },
  {
   "cell_type": "code",
   "execution_count": null,
   "id": "39fa74ee-71bd-4ecf-9f83-2e1b31275547",
   "metadata": {},
   "outputs": [],
   "source": []
  }
 ],
 "metadata": {
  "jupytext": {
   "cell_metadata_filter": "-all",
   "main_language": "python",
   "notebook_metadata_filter": "-all"
  },
  "kernelspec": {
   "display_name": "Python 3 (ipykernel)",
   "language": "python",
   "name": "python3"
  },
  "language_info": {
   "codemirror_mode": {
    "name": "ipython",
    "version": 3
   },
   "file_extension": ".py",
   "mimetype": "text/x-python",
   "name": "python",
   "nbconvert_exporter": "python",
   "pygments_lexer": "ipython3",
   "version": "3.12.4"
  }
 },
 "nbformat": 4,
 "nbformat_minor": 5
}
